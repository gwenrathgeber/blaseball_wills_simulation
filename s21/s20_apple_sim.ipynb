{
 "cells": [
  {
   "cell_type": "code",
   "execution_count": 1,
   "metadata": {
    "ExecuteTime": {
     "end_time": "2021-06-27T17:03:56.105984Z",
     "start_time": "2021-06-27T17:03:54.107932Z"
    }
   },
   "outputs": [],
   "source": [
    "import numpy as np\n",
    "import pandas as pd\n",
    "import seaborn as sns\n",
    "import matplotlib.pyplot as plt\n",
    "\n",
    "from os import makedirs\n",
    "from requests import get\n",
    "from matplotlib import rcParams\n",
    "from blaseball_mike.database import get_all_teams\n",
    "\n",
    "pd.set_option('display.max_rows', 500)\n",
    "pd.set_option('display.max_columns', 500)\n",
    "\n",
    "rcParams.update({'figure.autolayout': True})"
   ]
  },
  {
   "cell_type": "code",
   "execution_count": 2,
   "metadata": {
    "ExecuteTime": {
     "end_time": "2021-06-27T17:03:58.772027Z",
     "start_time": "2021-06-27T17:03:56.107979Z"
    }
   },
   "outputs": [],
   "source": [
    "# Set to folder path\n",
    "base_url = \"https://www.blaseball.com/database/teamElectionStats?id=\"\n",
    "\n",
    "teams = get_all_teams()\n",
    "wills_files = {'_'.join(teams[team]['nickname'].lower().split(\n",
    ")): team for team in teams if teams[team]['stadium'] is not None}\n",
    "\n",
    "will_names = {\n",
    "    'alternate_trust': 'Alternate Trust',\n",
    "    'equivalent_exchange': 'Exchange',\n",
    "    'mod_reroll': 'Reform',\n",
    "    'shadow_infuse': 'Shadow Infuse',\n",
    "    'roster_swap': 'Move',\n",
    "    'shadow_revoke': 'Shadow Revoke',\n",
    "    'magnify': 'Magnify',\n",
    "    'item_steal': 'Item Steal'\n",
    "}\n",
    "\n",
    "wills_votes = [pd.DataFrame(get(f'{base_url}{wills_files[key]}').json()[\n",
    "                            'wills']) for key in wills_files]"
   ]
  },
  {
   "cell_type": "code",
   "execution_count": 3,
   "metadata": {
    "ExecuteTime": {
     "end_time": "2021-06-27T17:03:58.786988Z",
     "start_time": "2021-06-27T17:03:58.777014Z"
    }
   },
   "outputs": [
    {
     "data": {
      "text/plain": [
       "'https://www.blaseball.com/database/teamElectionStats?id=c73b705c-40ad-4633-a6ed-d357ee2e2bcf'"
      ]
     },
     "execution_count": 3,
     "metadata": {},
     "output_type": "execute_result"
    }
   ],
   "source": [
    "base_url + list(wills_files.values())[0]"
   ]
  },
  {
   "cell_type": "code",
   "execution_count": 4,
   "metadata": {
    "ExecuteTime": {
     "end_time": "2021-06-27T17:03:58.818903Z",
     "start_time": "2021-06-27T17:03:58.788983Z"
    }
   },
   "outputs": [],
   "source": [
    "for team in wills_files:\n",
    "    try:\n",
    "        makedirs(f'./plots/{team}')\n",
    "    except:\n",
    "        pass\n",
    "    try:\n",
    "        makedirs(f'./data/{team}')\n",
    "    except:\n",
    "        pass"
   ]
  },
  {
   "cell_type": "code",
   "execution_count": 5,
   "metadata": {
    "ExecuteTime": {
     "end_time": "2021-06-27T17:03:58.961521Z",
     "start_time": "2021-06-27T17:03:58.820897Z"
    }
   },
   "outputs": [],
   "source": [
    "wills_values = {key: None for key in wills_files}\n",
    "\n",
    "for i, key in enumerate(wills_files):\n",
    "    wills_votes[i]['percent'] = wills_votes[i]['percent'].map(lambda x: float(x))\n",
    "\n",
    "    if wills_votes[i]['percent'].sum() != 1:\n",
    "        wills_votes[i].loc[wills_votes[i]['percent'] == wills_votes[i]['percent'].max(\n",
    "        ), 'percent'] += round(100*(1 - wills_votes[i]['percent'].sum()/100),1)\n",
    "        \n",
    "    wills_votes[i]['percent'] = wills_votes[i]['percent'].map(lambda x: round(float(x),1))\n",
    "    \n",
    "    wills_votes[i]['team'] = key\n",
    "    wills_votes[i]['will'] = wills_votes[i]['id'].map(will_names)\n",
    "\n",
    "    wills_values[key] = {\n",
    "        will: odds for will, odds in zip(wills_votes[i]['will'], wills_votes[i]['percent'])\n",
    "    }"
   ]
  },
  {
   "cell_type": "code",
   "execution_count": 6,
   "metadata": {
    "ExecuteTime": {
     "end_time": "2021-06-27T17:03:58.977478Z",
     "start_time": "2021-06-27T17:03:58.963515Z"
    }
   },
   "outputs": [],
   "source": [
    "def draw_wills(wills):\n",
    "    ps = pd.Series(list(wills.values()))/100\n",
    "    return np.random.choice(list(wills.keys()), 2, False, ps)"
   ]
  },
  {
   "cell_type": "code",
   "execution_count": 7,
   "metadata": {
    "ExecuteTime": {
     "end_time": "2021-06-27T17:03:58.993436Z",
     "start_time": "2021-06-27T17:03:58.979474Z"
    }
   },
   "outputs": [],
   "source": [
    "def will_sim(will_dict, n_draws=50_000):\n",
    "\n",
    "    draws = {\n",
    "        'will_1': [],\n",
    "        'will_2': []\n",
    "    }\n",
    "\n",
    "    for i in range(1, n_draws+1):\n",
    "        wills = draw_wills(will_dict)\n",
    "        wills.sort()\n",
    "        draws['will_1'].append(wills[0])\n",
    "        draws['will_2'].append(wills[1])\n",
    "\n",
    "        if i % (n_draws // 4) == 0:\n",
    "            print(f'Simulation {i}...')\n",
    "\n",
    "    return pd.DataFrame(draws)"
   ]
  },
  {
   "cell_type": "code",
   "execution_count": 8,
   "metadata": {
    "ExecuteTime": {
     "end_time": "2021-06-27T17:03:59.025350Z",
     "start_time": "2021-06-27T17:03:58.995431Z"
    }
   },
   "outputs": [],
   "source": [
    "def get_tables(draws):\n",
    "    will_1_freq = pd.Series(draws.groupby('will_1').size()) / draws.shape[0]\n",
    "    will_1_freq = will_1_freq.sort_values(ascending=False)\n",
    "\n",
    "    wills = pd.DataFrame(draws.groupby(['will_1'])[\n",
    "                         'will_2'].value_counts(normalize=True))\n",
    "    wills.columns = ['prob']\n",
    "    wills = wills.sort_values('prob', ascending=False)\n",
    "    wills['will1_prob'] = wills.index.map(lambda x: will_1_freq[x[0]])\n",
    "    wills['relative_prob'] = wills['prob'] * wills['will1_prob']\n",
    "    wills = wills.sort_values('relative_prob', ascending=False).drop(\n",
    "        columns=['prob', 'will1_prob'])\n",
    "    wills.reset_index(inplace=True)\n",
    "    wills['will_combo'] = wills['will_1'] + ' + ' + wills['will_2']\n",
    "\n",
    "    overall_probs = {}\n",
    "    for outcome in set(wills['will_1']).union(set(wills['will_2'])):\n",
    "        overall_probs[outcome] = round(wills[(wills['will_1'] == outcome) | (\n",
    "            wills['will_2'] == outcome)]['relative_prob'].sum(), 4)\n",
    "\n",
    "    overall_probs_df = pd.DataFrame.from_dict(\n",
    "        {key: [value] for key, value in overall_probs.items()}, orient='index')\n",
    "    overall_probs_df.columns = ['prob']\n",
    "    overall_probs_df = overall_probs_df.sort_values('prob', ascending=False)\n",
    "\n",
    "    return wills, overall_probs_df\n",
    "\n",
    "\n",
    "def gen_plots(wills, overall_probs_df, team):\n",
    "    team_name = ' '.join(word.capitalize() for word in team.split('_'))\n",
    "\n",
    "    sns.set_style('darkgrid')\n",
    "    sns.set_palette('pastel')\n",
    "\n",
    "    plt.figure(figsize=(16, 13))\n",
    "    sns.barplot(data=overall_probs_df, x='prob',\n",
    "                y=overall_probs_df.index, orient='h')\n",
    "    plt.yticks(rotation=22.5, fontsize='20')\n",
    "    plt.xlabel('Probability of Outcome', fontsize='20')\n",
    "    plt.ylabel('Outcome', fontsize='20')\n",
    "    plt.title(\n",
    "        f'{team_name}: Overall Likelihood of Individual Will', fontsize='25')\n",
    "    plt.xticks(\n",
    "        [.01, .05, .10, .15, .20, .25, .30, .35, .40, .45, .50, .60, .70, .80, .90, 1])\n",
    "    plt.xlim(0, 1)\n",
    "    plt.savefig(f'./plots/{team}/Wills_Individual_{team}.png', format='png')\n",
    "    plt.clf()\n",
    "\n",
    "    plt.figure(figsize=(16, 13))\n",
    "    sns.barplot(data=wills, x='relative_prob',\n",
    "                y=wills['will_combo'], orient='h')\n",
    "    plt.yticks(rotation=22.5, fontsize='20')\n",
    "    plt.xlabel('Probability of Outcome', fontsize='20')\n",
    "    plt.ylabel('Outcome', fontsize='20')\n",
    "    plt.title(f'{team_name}: Overall Likelihood of Will Pair', fontsize='25')\n",
    "    plt.xticks(\n",
    "        [.01, .05, .10, .15, .20, .25, .30, .35, .40, .45, .50, .60, .70, .80, .90, 1])\n",
    "    plt.xlim(0, 1)\n",
    "    plt.savefig(f'./plots/{team}/Will_Pairs_{team}.png', format='png')\n",
    "    plt.clf()\n",
    "\n",
    "    plt.figure(figsize=(16, 13))\n",
    "    sns.barplot(data=wills.iloc[1:, :], x='relative_prob',\n",
    "                y=wills['will_combo'][1:], orient='h')\n",
    "    plt.yticks(rotation=22.5, fontsize='20')\n",
    "    plt.xlabel('Probability of Outcome (Scale: 0-20%)', fontsize='20')\n",
    "    plt.ylabel('Outcome', fontsize='20')\n",
    "    plt.title(\n",
    "        f'{team_name}: Overall Likelihood of Non-Guide Will Pairs (Zoom-in)', fontsize='25')\n",
    "    plt.xticks([.01, .05, .10, .15, .20])\n",
    "    plt.xlim(0, .2)\n",
    "    plt.savefig(\n",
    "        f'./plots/{team}/Will_Pairs_Off_Plan_{team}.png', format='png')\n",
    "    plt.clf()"
   ]
  },
  {
   "cell_type": "code",
   "execution_count": 9,
   "metadata": {
    "ExecuteTime": {
     "end_time": "2021-06-27T17:03:59.040311Z",
     "start_time": "2021-06-27T17:03:59.026348Z"
    }
   },
   "outputs": [],
   "source": [
    "def main():\n",
    "\n",
    "    all_draws = []\n",
    "\n",
    "    for i, will_dict in enumerate(wills_values.values()):\n",
    "        print(f'Team {i+1} of {len(wills_values.values())}')\n",
    "        all_draws.append(will_sim(will_dict))\n",
    "\n",
    "    for i, team in enumerate(wills_files):\n",
    "        wills, overall_probs_df = get_tables(all_draws[i])\n",
    "\n",
    "        gen_plots(wills, overall_probs_df, team)\n",
    "\n",
    "        wills.to_csv(f'./data/{team}_wills.csv', index=None)"
   ]
  },
  {
   "cell_type": "code",
   "execution_count": null,
   "metadata": {
    "ExecuteTime": {
     "start_time": "2021-06-27T17:03:54.085Z"
    }
   },
   "outputs": [
    {
     "name": "stdout",
     "output_type": "stream",
     "text": [
      "Team 1 of 24\n",
      "Simulation 12500...\n",
      "Simulation 25000...\n",
      "Simulation 37500...\n",
      "Simulation 50000...\n",
      "Team 2 of 24\n",
      "Simulation 12500...\n",
      "Simulation 25000...\n",
      "Simulation 37500...\n",
      "Simulation 50000...\n",
      "Team 3 of 24\n",
      "Simulation 12500...\n",
      "Simulation 25000...\n",
      "Simulation 37500...\n",
      "Simulation 50000...\n",
      "Team 4 of 24\n",
      "Simulation 12500...\n",
      "Simulation 25000...\n",
      "Simulation 37500...\n",
      "Simulation 50000...\n",
      "Team 5 of 24\n",
      "Simulation 12500...\n",
      "Simulation 25000...\n",
      "Simulation 37500...\n",
      "Simulation 50000...\n",
      "Team 6 of 24\n",
      "Simulation 12500...\n",
      "Simulation 25000...\n",
      "Simulation 37500...\n",
      "Simulation 50000...\n",
      "Team 7 of 24\n",
      "Simulation 12500...\n",
      "Simulation 25000...\n",
      "Simulation 37500...\n",
      "Simulation 50000...\n",
      "Team 8 of 24\n",
      "Simulation 12500...\n",
      "Simulation 25000...\n",
      "Simulation 37500...\n",
      "Simulation 50000...\n",
      "Team 9 of 24\n",
      "Simulation 12500...\n",
      "Simulation 25000...\n",
      "Simulation 37500...\n",
      "Simulation 50000...\n",
      "Team 10 of 24\n",
      "Simulation 12500...\n",
      "Simulation 25000...\n",
      "Simulation 37500...\n",
      "Simulation 50000...\n",
      "Team 11 of 24\n",
      "Simulation 12500...\n",
      "Simulation 25000...\n",
      "Simulation 37500...\n",
      "Simulation 50000...\n",
      "Team 12 of 24\n",
      "Simulation 12500...\n",
      "Simulation 25000...\n",
      "Simulation 37500...\n",
      "Simulation 50000...\n",
      "Team 13 of 24\n",
      "Simulation 12500...\n",
      "Simulation 25000...\n",
      "Simulation 37500...\n",
      "Simulation 50000...\n",
      "Team 14 of 24\n",
      "Simulation 12500...\n",
      "Simulation 25000...\n",
      "Simulation 37500...\n",
      "Simulation 50000...\n",
      "Team 15 of 24\n",
      "Simulation 12500...\n",
      "Simulation 25000...\n",
      "Simulation 37500...\n",
      "Simulation 50000...\n",
      "Team 16 of 24\n",
      "Simulation 12500...\n",
      "Simulation 25000...\n",
      "Simulation 37500...\n",
      "Simulation 50000...\n",
      "Team 17 of 24\n",
      "Simulation 12500...\n",
      "Simulation 25000...\n",
      "Simulation 37500...\n",
      "Simulation 50000...\n",
      "Team 18 of 24\n",
      "Simulation 12500...\n",
      "Simulation 25000...\n",
      "Simulation 37500...\n",
      "Simulation 50000...\n",
      "Team 19 of 24\n",
      "Simulation 12500...\n",
      "Simulation 25000...\n",
      "Simulation 37500...\n",
      "Simulation 50000...\n",
      "Team 20 of 24\n",
      "Simulation 12500...\n",
      "Simulation 25000...\n",
      "Simulation 37500...\n",
      "Simulation 50000...\n",
      "Team 21 of 24\n"
     ]
    }
   ],
   "source": [
    "main()"
   ]
  }
 ],
 "metadata": {
  "kernelspec": {
   "display_name": "Python 3",
   "language": "python",
   "name": "python3"
  },
  "language_info": {
   "codemirror_mode": {
    "name": "ipython",
    "version": 3
   },
   "file_extension": ".py",
   "mimetype": "text/x-python",
   "name": "python",
   "nbconvert_exporter": "python",
   "pygments_lexer": "ipython3",
   "version": "3.8.5"
  }
 },
 "nbformat": 4,
 "nbformat_minor": 4
}
