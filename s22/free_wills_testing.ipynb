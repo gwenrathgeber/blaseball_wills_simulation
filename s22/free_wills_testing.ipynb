{
 "cells": [
  {
   "cell_type": "code",
   "execution_count": 1,
   "metadata": {
    "ExecuteTime": {
     "end_time": "2021-06-27T17:16:11.229764Z",
     "start_time": "2021-06-27T17:16:09.266728Z"
    }
   },
   "outputs": [],
   "source": [
    "import numpy as np\n",
    "import pandas as pd\n",
    "import seaborn as sns\n",
    "import matplotlib.pyplot as plt\n",
    "\n",
    "from os import makedirs\n",
    "from requests import get\n",
    "from matplotlib import rcParams\n",
    "from blaseball_mike.database import get_all_teams\n",
    "\n",
    "pd.set_option('display.max_rows', 500)\n",
    "pd.set_option('display.max_columns', 500)\n",
    "\n",
    "rcParams.update({'figure.autolayout': True})"
   ]
  },
  {
   "cell_type": "code",
   "execution_count": 2,
   "metadata": {
    "ExecuteTime": {
     "end_time": "2021-06-27T17:16:14.529760Z",
     "start_time": "2021-06-27T17:16:11.231759Z"
    }
   },
   "outputs": [],
   "source": [
    "# Set to folder path\n",
    "base_url = \"https://www.blaseball.com/database/teamElectionStats?id=\"\n",
    "\n",
    "teams = get_all_teams()\n",
    "wills_files = {'_'.join(teams[team]['nickname'].lower().split(\n",
    ")): team for team in teams if teams[team]['stadium'] is not None}\n",
    "\n",
    "will_names = {\n",
    "    'roster_swap': 'Swap',\n",
    "    'equivalent_exchange': 'Exchange',\n",
    "    'mod_reroll': 'Reform',\n",
    "    'shadow_infuse': 'Shadow Infuse',\n",
    "    'player_move': 'Move',\n",
    "    'shadow_revoke': 'Shadow Revoke',\n",
    "    'magnify': 'Magnify',\n",
    "    'item_steal': 'Take Item'\n",
    "}\n",
    "\n",
    "wills_votes = [pd.DataFrame(get(f'{base_url}{wills_files[key]}').json()[\n",
    "                            'wills']) for key in wills_files]"
   ]
  },
  {
   "cell_type": "code",
   "execution_count": 3,
   "metadata": {},
   "outputs": [],
   "source": [
    "magic_url = base_url + '7966eb04-efcc-499b-8f03-d13916330531'"
   ]
  },
  {
   "cell_type": "code",
   "execution_count": 4,
   "metadata": {
    "ExecuteTime": {
     "end_time": "2021-06-27T17:16:14.545088Z",
     "start_time": "2021-06-27T17:16:14.532124Z"
    },
    "scrolled": true
   },
   "outputs": [
    {
     "data": {
      "text/plain": [
       "'https://www.blaseball.com/database/teamElectionStats?id=a37f9158-7f82-46bc-908c-c9e2dda7c33b'"
      ]
     },
     "execution_count": 4,
     "metadata": {},
     "output_type": "execute_result"
    }
   ],
   "source": [
    "base_url + list(wills_files.values())[0]"
   ]
  },
  {
   "cell_type": "code",
   "execution_count": 5,
   "metadata": {
    "ExecuteTime": {
     "end_time": "2021-06-27T17:16:14.560049Z",
     "start_time": "2021-06-27T17:16:14.546086Z"
    }
   },
   "outputs": [],
   "source": [
    "for team in wills_files:\n",
    "    try:\n",
    "        makedirs(f'./plots/{team}')\n",
    "    except:\n",
    "        pass\n",
    "    try:\n",
    "        makedirs(f'./data/{team}')\n",
    "    except:\n",
    "        pass"
   ]
  },
  {
   "cell_type": "code",
   "execution_count": 6,
   "metadata": {
    "ExecuteTime": {
     "end_time": "2021-06-27T17:16:14.670349Z",
     "start_time": "2021-06-27T17:16:14.562044Z"
    }
   },
   "outputs": [],
   "source": [
    "wills_values = {key: None for key in wills_files}\n",
    "\n",
    "for i, key in enumerate(wills_files):\n",
    "    wills_votes[i]['percent'] = wills_votes[i]['percent'].map(lambda x: float(x))\n",
    "\n",
    "    if wills_votes[i]['percent'].sum() != 1:\n",
    "        wills_votes[i].loc[wills_votes[i]['percent'] == wills_votes[i]['percent'].max(\n",
    "        ), 'percent'] += round(100*(1 - wills_votes[i]['percent'].sum()/100),1)\n",
    "        \n",
    "    wills_votes[i]['percent'] = wills_votes[i]['percent'].map(lambda x: round(float(x),1))\n",
    "    \n",
    "    wills_votes[i]['team'] = key\n",
    "    wills_votes[i]['will'] = wills_votes[i]['id'].map(will_names)\n",
    "\n",
    "    wills_values[key] = {\n",
    "        will: odds for will, odds in zip(wills_votes[i]['will'], wills_votes[i]['percent'])\n",
    "    }"
   ]
  },
  {
   "cell_type": "code",
   "execution_count": 7,
   "metadata": {},
   "outputs": [
    {
     "data": {
      "text/plain": [
       "{'Exchange': 10.1,\n",
       " 'Take Item': 6.1,\n",
       " 'Magnify': 25.2,\n",
       " 'Reform': 14.0,\n",
       " 'Move': 19.7,\n",
       " 'Swap': 5.3,\n",
       " 'Shadow Infuse': 18.6,\n",
       " 'Shadow Revoke': 1.0}"
      ]
     },
     "execution_count": 7,
     "metadata": {},
     "output_type": "execute_result"
    }
   ],
   "source": [
    "wills_values['magic']"
   ]
  },
  {
   "cell_type": "code",
   "execution_count": 8,
   "metadata": {
    "ExecuteTime": {
     "end_time": "2021-06-27T17:16:14.686399Z",
     "start_time": "2021-06-27T17:16:14.672348Z"
    }
   },
   "outputs": [],
   "source": [
    "def draw_wills(wills):\n",
    "    ps = pd.Series(list(wills.values()))/100\n",
    "    return np.random.choice(list(wills.keys()), 2, False, ps)"
   ]
  },
  {
   "cell_type": "code",
   "execution_count": 9,
   "metadata": {},
   "outputs": [],
   "source": [
    "def draw_free_wills(wills):\n",
    "    ps = pd.Series(list(wills.values()))/100\n",
    "    return np.random.choice(list(wills.keys()), 3, False, ps)"
   ]
  },
  {
   "cell_type": "code",
   "execution_count": 10,
   "metadata": {
    "ExecuteTime": {
     "end_time": "2021-06-27T17:16:14.702378Z",
     "start_time": "2021-06-27T17:16:14.688394Z"
    }
   },
   "outputs": [],
   "source": [
    "def will_sim(will_dict, n_draws=50_000):\n",
    "\n",
    "    draws = {\n",
    "        'will_1': [],\n",
    "        'will_2': []\n",
    "    }\n",
    "\n",
    "    for i in range(1, n_draws+1):\n",
    "        wills = draw_wills(will_dict)\n",
    "        wills.sort()\n",
    "        draws['will_1'].append(wills[0])\n",
    "        draws['will_2'].append(wills[1])\n",
    "\n",
    "        if i % (n_draws // 4) == 0:\n",
    "            print(f'Simulation {i}...')\n",
    "\n",
    "    return pd.DataFrame(draws)"
   ]
  },
  {
   "cell_type": "code",
   "execution_count": 11,
   "metadata": {},
   "outputs": [],
   "source": [
    "def free_will_sim(will_dict, n_draws=50_000):\n",
    "    draws = {\n",
    "        'will_1': [],\n",
    "        'will_2': [],\n",
    "        'will_3': []\n",
    "    }\n",
    "\n",
    "    for i in range(1, n_draws+1):\n",
    "        wills = draw_free_wills(will_dict)\n",
    "        wills.sort()\n",
    "        draws['will_1'].append(wills[0])\n",
    "        draws['will_2'].append(wills[1])\n",
    "        draws['will_3'].append(wills[2])\n",
    "\n",
    "        if i % (n_draws // 4) == 0:\n",
    "            print(f'Simulation {i}...')\n",
    "\n",
    "    return pd.DataFrame(draws)"
   ]
  },
  {
   "cell_type": "code",
   "execution_count": 12,
   "metadata": {
    "ExecuteTime": {
     "end_time": "2021-06-27T17:16:14.733302Z",
     "start_time": "2021-06-27T17:16:14.704351Z"
    }
   },
   "outputs": [],
   "source": [
    "def get_tables(draws):\n",
    "    will_1_freq = pd.Series(draws.groupby('will_1').size()) / draws.shape[0]\n",
    "    will_1_freq = will_1_freq.sort_values(ascending=False)\n",
    "    will_2_freq = pd.Series(draws.groupby('will_2').size()) / draws.shape[0]\n",
    "    will_2_freq = will_2_freq.sort_values(ascending=False)\n",
    "    \n",
    "    wills = pd.DataFrame(draws.groupby(['will_1','will_2'])[\n",
    "                         'will_3'].value_counts(normalize=True))\n",
    "        \n",
    "    wills.columns = ['prob']\n",
    "    wills = wills.sort_values('prob', ascending=False)\n",
    "        \n",
    "    wills['will1_prob'] = wills.index.map(lambda x: will_1_freq[x[0]])\n",
    "    wills['will2_prob'] = wills.index.map(lambda x: will_2_freq[x[1]])\n",
    "\n",
    "    wills['relative_prob'] = wills['prob'] * wills['will1_prob'] * wills['will2_prob']\n",
    "    \n",
    "    wills = wills.sort_values('relative_prob', ascending=False).drop(\n",
    "        columns=['prob', 'will1_prob','will2_prob'])\n",
    "    wills.reset_index(inplace=True)\n",
    "    wills['will_combo'] = wills['will_1'] + ' + ' + wills['will_2'] + ' + ' + wills['will_3']\n",
    "\n",
    "    wills.to_csv('./plots/magic/test.csv')\n",
    "\n",
    "    \n",
    "    overall_probs = {}\n",
    "    for outcome in set(wills['will_1']).union(set(wills['will_2'])).union(set(wills['will_3'])):\n",
    "        overall_probs[outcome] = round(wills[(wills['will_1'] == outcome) | (\n",
    "            wills['will_2'] == outcome) | (wills['will_3'] == outcome)]['relative_prob'].sum(), 4)\n",
    "\n",
    "    overall_probs_df = pd.DataFrame.from_dict(\n",
    "        {key: [value] for key, value in overall_probs.items()}, orient='index')\n",
    "    overall_probs_df.columns = ['prob']\n",
    "    overall_probs_df = overall_probs_df.sort_values('prob', ascending=False)\n",
    "\n",
    "    return wills, overall_probs_df\n",
    "\n",
    "\n",
    "def gen_plots(wills, overall_probs_df, team):\n",
    "    team_name = ' '.join(word.capitalize() for word in team.split('_'))\n",
    "\n",
    "    sns.set_style('darkgrid')\n",
    "    sns.set_palette('pastel')\n",
    "\n",
    "    plt.figure(figsize=(16, 13))\n",
    "    sns.barplot(data=overall_probs_df, x='prob',\n",
    "                y=overall_probs_df.index, orient='h')\n",
    "    plt.yticks(rotation=22.5, fontsize='20')\n",
    "    plt.xlabel('Probability of Outcome', fontsize='20')\n",
    "    plt.ylabel('Outcome', fontsize='20')\n",
    "    plt.title(\n",
    "        f'{team_name}: Overall Likelihood of Individual Will', fontsize='25')\n",
    "    plt.xticks(\n",
    "        [.01, .05, .10, .15, .20, .25, .30, .35, .40, .45, .50, .60, .70, .80, .90, 1])\n",
    "    plt.xlim(0, 1)\n",
    "    plt.savefig(f'./plots/{team}/Wills_Individual_{team}.png', format='png')\n",
    "    plt.clf()\n",
    "\n",
    "    plt.figure(figsize=(16, 13))\n",
    "    sns.barplot(data=wills, x='relative_prob',\n",
    "                y=wills['will_combo'], orient='h')\n",
    "    plt.yticks(rotation=22.5, fontsize='20')\n",
    "    plt.xlabel('Probability of Outcome', fontsize='20')\n",
    "    plt.ylabel('Outcome', fontsize='20')\n",
    "    plt.title(f'{team_name}: Overall Likelihood of Will Pair', fontsize='25')\n",
    "    plt.xticks(\n",
    "        [.01, .05, .10, .15, .20, .25, .30, .35, .40, .45, .50, .60, .70, .80, .90, 1])\n",
    "    plt.xlim(0, 1)\n",
    "    plt.savefig(f'./plots/{team}/Will_Pairs_{team}.png', format='png')\n",
    "    plt.clf()\n",
    "\n",
    "    plt.figure(figsize=(16, 13))\n",
    "    sns.barplot(data=wills.iloc[1:, :], x='relative_prob',\n",
    "                y=wills['will_combo'][1:], orient='h')\n",
    "    plt.yticks(rotation=22.5, fontsize='20')\n",
    "    plt.xlabel('Probability of Outcome (Scale: 0-20%)', fontsize='20')\n",
    "    plt.ylabel('Outcome', fontsize='20')\n",
    "    plt.title(\n",
    "        f'{team_name}: Overall Likelihood of Non-Guide Will Pairs (Zoom-in)', fontsize='25')\n",
    "    plt.xticks([.01, .05, .10, .15, .20])\n",
    "    plt.xlim(0, .2)\n",
    "    plt.savefig(\n",
    "        f'./plots/{team}/Will_Pairs_Off_Plan_{team}.png', format='png')\n",
    "    plt.clf()"
   ]
  },
  {
   "cell_type": "code",
   "execution_count": 13,
   "metadata": {
    "ExecuteTime": {
     "end_time": "2021-06-27T17:16:14.749232Z",
     "start_time": "2021-06-27T17:16:14.735269Z"
    }
   },
   "outputs": [],
   "source": [
    "def main():\n",
    "\n",
    "    all_draws = []\n",
    "\n",
    "    for i, will_dict in enumerate([value for key, value in wills_values.items() if key == 'magic']):\n",
    "        print(f'Team {i+1} of {len(wills_values.values())}')\n",
    "        all_draws.append(free_will_sim(will_dict))\n",
    "        \n",
    "    for i, team in enumerate([file for file in wills_files if file == 'magic']):\n",
    "        wills, overall_probs_df = get_tables(all_draws[i])\n",
    "\n",
    "        gen_plots(wills, overall_probs_df, team)\n",
    "\n",
    "        wills.to_csv(f'./data/{team}_wills.csv', index=None)"
   ]
  },
  {
   "cell_type": "code",
   "execution_count": 14,
   "metadata": {
    "ExecuteTime": {
     "end_time": "2021-06-27T17:23:56.587721Z",
     "start_time": "2021-06-27T17:16:14.751227Z"
    }
   },
   "outputs": [
    {
     "name": "stdout",
     "output_type": "stream",
     "text": [
      "Team 1 of 24\n",
      "Simulation 12500...\n",
      "Simulation 25000...\n",
      "Simulation 37500...\n",
      "Simulation 50000...\n"
     ]
    },
    {
     "data": {
      "text/plain": [
       "<Figure size 1152x936 with 0 Axes>"
      ]
     },
     "metadata": {},
     "output_type": "display_data"
    },
    {
     "data": {
      "text/plain": [
       "<Figure size 1152x936 with 0 Axes>"
      ]
     },
     "metadata": {},
     "output_type": "display_data"
    },
    {
     "data": {
      "text/plain": [
       "<Figure size 1152x936 with 0 Axes>"
      ]
     },
     "metadata": {},
     "output_type": "display_data"
    }
   ],
   "source": [
    "main()"
   ]
  }
 ],
 "metadata": {
  "kernelspec": {
   "display_name": "Python 3",
   "language": "python",
   "name": "python3"
  },
  "language_info": {
   "codemirror_mode": {
    "name": "ipython",
    "version": 3
   },
   "file_extension": ".py",
   "mimetype": "text/x-python",
   "name": "python",
   "nbconvert_exporter": "python",
   "pygments_lexer": "ipython3",
   "version": "3.7.6"
  }
 },
 "nbformat": 4,
 "nbformat_minor": 4
}
